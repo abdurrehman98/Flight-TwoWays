{
 "cells": [
  {
   "cell_type": "code",
   "execution_count": 1,
   "metadata": {},
   "outputs": [],
   "source": [
    "from collections import defaultdict\n",
    "import heapq\n",
    "import matplotlib.pyplot as plt\n",
    "import numpy as np"
   ]
  },
  {
   "cell_type": "code",
   "execution_count": 2,
   "metadata": {},
   "outputs": [],
   "source": [
    "# sample graph implemented as a dictionary\n",
    "graph = {'LAX': ['SFO', 'SEA', 'CHI','NYC','MIA'],\n",
    "         'SFO': ['SEA','ATL','CHI','NYC','MIA','PHO'],\n",
    "         'SEA': ['ATL', 'CHI','SFO','NYC'],\n",
    "         'CHI': ['NYC','MIA','LAX'],\n",
    "         'NYC': ['MIA', 'PHO','LAX','SFO','SEA','ATL'],\n",
    "         'ATL': ['NYC','PHO'],\n",
    "         'MIA': ['PHO','NYC'],\n",
    "         'PHO': ['MIA']\n",
    "\n",
    "}\n"
   ]
  },
  {
   "cell_type": "code",
   "execution_count": 3,
   "metadata": {},
   "outputs": [
    {
     "data": {
      "text/plain": [
       "['CHI', 'MIA']"
      ]
     },
     "execution_count": 3,
     "metadata": {},
     "output_type": "execute_result"
    }
   ],
   "source": [
    "def bfs_shortest_path(graph, start, goal):\n",
    "    # temporarily storing explored nodes\n",
    "    explored = []\n",
    "    # all the paths we will have to check\n",
    "    search = [[start]]\n",
    " \n",
    "    # If we are already at the destination\n",
    "    if start == goal:\n",
    "        return \"You are already at the destination\"\n",
    " \n",
    "    # loops over all possible nodes\n",
    "    while search:\n",
    "        # we take out the first searched node\n",
    "        path = search.pop(0)\n",
    "        # the last node is taken\n",
    "        node = path[-1]\n",
    "        if node not in explored:\n",
    "            neighbours = graph[node]\n",
    "            # BFS approach implemented here, going through all neighbors to search\n",
    "            for neighbour in neighbours:\n",
    "                new_path = list(path)\n",
    "                new_path.append(neighbour)\n",
    "                search.append(new_path)\n",
    "                \n",
    "                # if we find our destination we return it\n",
    "                if neighbour == goal:\n",
    "                    return new_path\n",
    " \n",
    "            # mark node as explored\n",
    "            explored.append(node)\n",
    " \n",
    "    # in case there's no path between the 2 nodes\n",
    "    return \"Destination is not reachable\"\n",
    " \n",
    "bfs_shortest_path(graph, 'CHI', 'MIA')"
   ]
  },
  {
   "cell_type": "code",
   "execution_count": 4,
   "metadata": {},
   "outputs": [],
   "source": [
    "flights = {\n",
    "    \n",
    "'LAX':{'SFO':3, 'SEA': 6,'CHI':10},\n",
    "'SFO':{'SEA':2, 'ATL':7},\n",
    "'SEA':{'ATL':10, 'CHI':5},\n",
    "'CHI':{'NYC':4,'MIA':3},\n",
    "'NYC':{'MIA':3,'PHO':2},\n",
    "'ATL':{'NYC':2,'PHO':5},\n",
    "'MIA':{'PHO':4},\n",
    "'PHO':{'MIA':4}\n",
    "    \n",
    "}"
   ]
  },
  {
   "cell_type": "code",
   "execution_count": 5,
   "metadata": {},
   "outputs": [
    {
     "name": "stdout",
     "output_type": "stream",
     "text": [
      "Best Flight Available has a price rating of 6\n",
      "Optimal path is['CHI', 'NYC', 'PHO']\n"
     ]
    }
   ],
   "source": [
    "flights = {\n",
    "    \n",
    "'LAX':{'SFO':3, 'SEA': 4,'CHI':10, 'NYC':6, 'MIA':5},\n",
    "'SFO':{'SEA':2, 'ATL':7, 'CHI':8, 'NYC':6, 'MIA':4, 'PHO':3},\n",
    "'SEA':{'ATL':10, 'CHI':5, 'SFO':4, 'NYC':6},\n",
    "'CHI':{'NYC':4,'MIA':9, 'LAX':2},\n",
    "'NYC':{'MIA':3,'PHO':2, 'LAX':5, 'SFO':4, 'SEA':5, 'ATL':2},\n",
    "'ATL':{'NYC':2,'PHO':5},\n",
    "'MIA':{'PHO':8, 'NYC':4},\n",
    "'PHO':{'MIA':9}\n",
    "    \n",
    "}\n",
    "\n",
    "def dijkstra(flights, start, destination):\n",
    "    \n",
    "    #initialize our required parameters\n",
    "    cheapest_flight = {}\n",
    "    previous_flight = {}\n",
    "    unseenNodes = flights\n",
    "    infinity = float('inf')\n",
    "    track_path = []\n",
    "    \n",
    "    # we create sentinels to ensure we are always looking for shorter total paths\n",
    "    for node in unseenNodes:\n",
    "        cheapest_flight[node] = infinity\n",
    "        \n",
    "    # distance or price at destination will be 0    \n",
    "    cheapest_flight[start] = 0\n",
    "    \n",
    "    # scanning through possible locations\n",
    "    while unseenNodes:\n",
    "        \n",
    "        \n",
    "        min_price_node = None\n",
    "        \n",
    "        for node in unseenNodes:\n",
    "            \n",
    "            # verifying condition & then selecting a possibility\n",
    "            if min_price_node is None:\n",
    "                min_price_node = node\n",
    "                \n",
    "            # we swap the cheapest flight for whichever is closer    \n",
    "            elif cheapest_flight[node] < cheapest_flight[min_price_node]:\n",
    "                min_price_node = node\n",
    "            \n",
    "        #this opens up all possibilities    \n",
    "        path_options = flights[min_price_node].items()\n",
    "        \n",
    "        # now we will use possible destinations and the price it takes to get to them\n",
    "        for child_node, price in path_options:\n",
    "            \n",
    "            # comparisons to check the cheapest route\n",
    "            if price + cheapest_flight[min_price_node] < cheapest_flight[child_node]:\n",
    "                cheapest_flight[child_node] = price+cheapest_flight[min_price_node]\n",
    "                previous_flight[child_node] = min_price_node\n",
    "                \n",
    "        unseenNodes.pop(min_price_node)\n",
    "\n",
    "    # what to do once we have the final spot\n",
    "    currentNode = destination\n",
    "    while currentNode != start:\n",
    "        try:\n",
    "            track_path.insert(0, currentNode)\n",
    "            currentNode = previous_flight[currentNode]\n",
    "            \n",
    "        # In some cases, some cities will not be interconnected depending on our input\n",
    "        except KeyError:\n",
    "            print(\"Destination is not reachable\")\n",
    "            break\n",
    "            \n",
    "        \n",
    "    track_path.insert(0,start)\n",
    "    \n",
    "    # otherwise, we print out the cheapest flight combo and cities we must go through\n",
    "    if cheapest_flight[destination] != infinity:\n",
    "        print(\"Best Flight Available has a price rating of \" + str(cheapest_flight[destination]))\n",
    "        print(\"Optimal path is\" + str(track_path))\n",
    "        \n",
    "dijkstra(flights, \"CHI\", \"PHO\")"
   ]
  },
  {
   "cell_type": "code",
   "execution_count": 6,
   "metadata": {},
   "outputs": [
    {
     "name": "stdout",
     "output_type": "stream",
     "text": [
      "Nodes of graph: \n",
      "['a', 'b', 'c', 1, 2, 'd', 'e']\n",
      "Edges of graph: \n",
      "[('a', 'b'), (1, 2), ('d', 'e')]\n"
     ]
    },
    {
     "data": {
      "image/png": "[encoded data removed]",
      "text/plain": [
       "<Figure size 432x288 with 1 Axes>"
      ]
     },
     "metadata": {},
     "output_type": "display_data"
    }
   ],
   "source": [
    "import networkx as nx\n",
    "\n",
    "G=nx.Graph()\n",
    "G.add_node(\"a\")\n",
    "G.add_nodes_from([\"b\",\"c\"])\n",
    "\n",
    "G.add_edge(1,2)\n",
    "edge = (\"d\", \"e\")\n",
    "G.add_edge(*edge)\n",
    "edge = (\"a\", \"b\")\n",
    "G.add_edge(*edge)\n",
    "\n",
    "print(\"Nodes of graph: \")\n",
    "print(G.nodes())\n",
    "print(\"Edges of graph: \")\n",
    "print(G.edges())\n",
    "\n",
    "Nodes_of_graph:  ['a', 1, 'c', 'b', 'e', 'd', 2]\n",
    "Edges_of_graph: [('a', 'b'), (1, 2), ('e', 'd')]\n",
    "\n",
    "# adding a list of edges:\n",
    "G.add_edges_from([(\"a\",\"c\"),(\"c\",\"d\"), (\"a\",1), (1,\"d\"), (\"a\",2)])\n",
    "\n",
    "nx.draw(G)\n",
    "plt.show() # display"
   ]
  },
  {
   "cell_type": "code",
   "execution_count": 7,
   "metadata": {},
   "outputs": [
    {
     "data": {
      "image/png": "[encoded data removed]",
      "text/plain": [
       "<Figure size 432x288 with 1 Axes>"
      ]
     },
     "metadata": {},
     "output_type": "display_data"
    }
   ],
   "source": [
    "G=nx.path_graph(4)\n",
    "\n",
    "\n",
    "nx.draw(G)\n",
    "\n",
    "plt.show()"
   ]
  },
  {
   "cell_type": "code",
   "execution_count": 9,
   "metadata": {},
   "outputs": [
    {
     "data": {
      "text/plain": [
       "{'PHO': {'MIA'},\n",
       " 'MIA': {'NYC'},\n",
       " 'NYC': {'ATL', 'LAX', 'SFO'},\n",
       " 'SFO': {'SEA'},\n",
       " 'SEA': {'CHI'}}"
      ]
     },
     "execution_count": 9,
     "metadata": {},
     "output_type": "execute_result"
    }
   ],
   "source": [
    "def create_mst(graph, start):\n",
    "    mst = defaultdict(set)\n",
    "    visited = set([start])\n",
    "    edges = [\n",
    "        (weight, start, to)\n",
    "        for to, weight in graph[start].items()\n",
    "    ]\n",
    "    heapq.heapify(edges)\n",
    "\n",
    "    while edges:\n",
    "        weight, frm, to = heapq.heappop(edges)\n",
    "        if to not in visited:\n",
    "            visited.add(to)\n",
    "            mst[frm].add(to)\n",
    "            for adjacent, weight in graph[to].items():\n",
    "                if adjacent not in visited:\n",
    "                    heapq.heappush(edges, (weight, to, adjacent))\n",
    "\n",
    "    return mst\n",
    "\n",
    "flights = {\n",
    "    'LAX':{'SFO':3, 'SEA': 4,'CHI':10, 'NYC':6, 'MIA':5},\n",
    "'SFO':{'SEA':2, 'ATL':7, 'CHI':8, 'NYC':6, 'MIA':4, 'PHO':3},\n",
    "'SEA':{'ATL':10, 'CHI':5, 'SFO':4, 'NYC':6},\n",
    "'CHI':{'NYC':4,'MIA':3, 'LAX':6},\n",
    "'NYC':{'MIA':3,'PHO':2, 'LAX':5, 'SFO':4, 'SEA':5, 'ATL':2},\n",
    "'ATL':{'NYC':2,'PHO':5},\n",
    "'MIA':{'PHO':8, 'NYC':4},\n",
    "'PHO':{'MIA':9}\n",
    "    \n",
    "}\n",
    "\n",
    "dict(create_mst(flights, 'PHO'))"
   ]
  },
  {
   "cell_type": "code",
   "execution_count": null,
   "metadata": {},
   "outputs": [],
   "source": []
  }
 ],
 "metadata": {
  "kernelspec": {
   "display_name": "Python 3",
   "language": "python",
   "name": "python3"
  },
  "language_info": {
   "codemirror_mode": {
    "name": "ipython",
    "version": 3
   },
   "file_extension": ".py",
   "mimetype": "text/x-python",
   "name": "python",
   "nbconvert_exporter": "python",
   "pygments_lexer": "ipython3",
   "version": "3.7.0"
  }
 },
 "nbformat": 4,
 "nbformat_minor": 2
}
